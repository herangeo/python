{
 "cells": [
  {
   "cell_type": "code",
   "execution_count": 1,
   "metadata": {},
   "outputs": [
    {
     "name": "stdout",
     "output_type": "stream",
     "text": [
      "['memberid', 'phone', 'name', 'dateofbirth', 'address', 'email', 'phone', 'membershiptype', 'joiningdate', 'membershipexpiry', 'alternativephno', 'done']\n"
     ]
    }
   ],
   "source": [
    "#Create a LIST with your domain attributes, insert the elements using the append (), insert(), extend() \n",
    "#and add any iterables (tuples, sets, dictionaries etc.) to the list (Use all the methods ).\n",
    "\n",
    "member=[\"memberid\",\"name\",\"dateofbirth\"]\n",
    "member.append(\"address\")\n",
    "member.extend([\"email\",\"phone\"])\n",
    "member.insert(1,\"phone\")\n",
    "my_tuple=(\"membershiptype\",\"joiningdate\")\n",
    "member+=my_tuple\n",
    "my_set={\"membershipexpiry\"}\n",
    "member+=my_set\n",
    "my_dict={\"alternativephno\":\"one\",\"done\":\"two\"}\n",
    "member+=my_dict\n",
    "print(member)"
   ]
  },
  {
   "cell_type": "code",
   "execution_count": 5,
   "metadata": {},
   "outputs": [
    {
     "name": "stdout",
     "output_type": "stream",
     "text": [
      "[55, 15, 45, 25]\n",
      "sum: 140\n",
      "smallest number: 15\n"
     ]
    }
   ],
   "source": [
    "#Write a program to swap the first and last elements in a list.\n",
    "#Write a program to find the sum of the digits in a list.\n",
    "#Write a program to find the smallest element in a list.\n",
    "num = [25,15,45,55]\n",
    "first_element=num[0]\n",
    "last_element=num[-1]\n",
    "\n",
    "num[0]=last_element\n",
    "num[-1]=first_element\n",
    "\n",
    "print(num)\n",
    "\n",
    "sum = 0\n",
    "for items in num:\n",
    "    sum= sum+items\n",
    "print(\"sum:\",sum)\n",
    "\n",
    "smallest=num[0]\n",
    "\n",
    "for items in num:\n",
    "    if items < smallest:\n",
    "     smallest=items\n",
    "\n",
    "print(\"smallest number:\",smallest)"
   ]
  },
  {
   "cell_type": "code",
   "execution_count": 13,
   "metadata": {},
   "outputs": [
    {
     "name": "stdout",
     "output_type": "stream",
     "text": [
      "ascending order: [('a', 6), ('b', 4), ('c', 3), ('d', 2)]\n",
      "sum: 15\n"
     ]
    }
   ],
   "source": [
    "  #Sort the dictionaries in ascending order based on the Key of the dictionary.\n",
    "  #Create the dictionary with Numeric as Value in Key – Value pair and find the sum of all the values in the Dictionary.\n",
    "\n",
    "dict = {\"c\": 3, \"a\": 6, \"d\": 2, \"b\": 4}\n",
    "\n",
    "sorted_dict = sorted(dict.items(), key=lambda x: x[0])\n",
    "\n",
    "print(\"ascending order:\",sorted_dict)\n",
    "sum=0\n",
    "for items in dict.values():\n",
    "    sum+=items\n",
    "print(\"sum:\",sum)\n",
    "\n"
   ]
  },
  {
   "cell_type": "code",
   "execution_count": 12,
   "metadata": {},
   "outputs": [
    {
     "name": "stdout",
     "output_type": "stream",
     "text": [
      "[('d', 2), ('c', 3), ('b', 4), ('a', 6)]\n"
     ]
    }
   ],
   "source": [
    "# Write a Python code to demonstrate the sorting in descending order of values with lambda function.\n",
    "dict = {\"c\": 3, \"a\": 6, \"d\": 2, \"b\": 4}\n",
    "sorted_dict1 = sorted(dict.items(),reverse=True, key=lambda x: x[0])\n",
    "\n",
    "print(sorted_dict1)"
   ]
  }
 ],
 "metadata": {
  "kernelspec": {
   "display_name": "Python 3",
   "language": "python",
   "name": "python3"
  },
  "language_info": {
   "codemirror_mode": {
    "name": "ipython",
    "version": 3
   },
   "file_extension": ".py",
   "mimetype": "text/x-python",
   "name": "python",
   "nbconvert_exporter": "python",
   "pygments_lexer": "ipython3",
   "version": "3.11.4"
  },
  "orig_nbformat": 4
 },
 "nbformat": 4,
 "nbformat_minor": 2
}
