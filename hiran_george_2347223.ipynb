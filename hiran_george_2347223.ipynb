{
  "nbformat": 4,
  "nbformat_minor": 0,
  "metadata": {
    "colab": {
      "provenance": []
    },
    "kernelspec": {
      "name": "python3",
      "display_name": "Python 3"
    },
    "language_info": {
      "name": "python"
    }
  },
  "cells": [
    {
      "cell_type": "code",
      "execution_count": 9,
      "metadata": {
        "colab": {
          "base_uri": "https://localhost:8080/",
          "height": 0
        },
        "id": "u__or4ZBhd99",
        "outputId": "4c96ef27-f3d2-445a-bd02-fb4a5548d245"
      },
      "outputs": [
        {
          "output_type": "stream",
          "name": "stdout",
          "text": [
            "[[6 0 7]\n",
            " [1 2 4]\n",
            " [6 3 2]]\n",
            "\n",
            " [[0 1 4]\n",
            " [3 8 2]\n",
            " [9 7 9]]\n",
            "the product is 0\n",
            "the multiplication is\n",
            " [[ 0  0 28]\n",
            " [ 3 16  8]\n",
            " [54 21 18]]\n",
            "the dot product is\n",
            " [[63 55 87]\n",
            " [42 45 44]\n",
            " [27 44 48]]\n"
          ]
        }
      ],
      "source": [
        "#Q1. Create two 3×3 matrices using the random function in Numpy and perform the following operations.\n",
        "#operations.\n",
        "#è Product (prod)\n",
        "#è Multiplication (multiply)\n",
        "#è Dot Product (dot)\n",
        "import numpy as np\n",
        "matrix1=np.random.randint(10,size=(3,3))\n",
        "matrix2=np.random.randint(10,size=(3,3))\n",
        "\n",
        "print(matrix1)\n",
        "\n",
        "print(\"\\n\" ,matrix2)\n",
        "x=np.prod([matrix1,matrix2])\n",
        "print(\"the product is\",x)\n",
        "y=np.multiply(matrix1,matrix2)\n",
        "print(\"the multiplication is\\n\",y)\n",
        "z=np.dot(matrix1,matrix2)\n",
        "print(\"the dot product is\\n\",z)\n",
        "\n",
        "\n"
      ]
    },
    {
      "cell_type": "code",
      "source": [
        "#Q2. Perform the following set operations using the Numpy functions.\n",
        "#è Union\n",
        "#è Intersection\n",
        "#è Set difference\n",
        "#è XOR\n",
        "import numpy as np\n",
        "array1=np.array([3,4,5,6,7])\n",
        "array2=np.array([8,9,7,6,6])\n",
        "\n",
        "x=np.union1d(array1,array2)\n",
        "print(\"union:\",x)\n",
        "y=np.intersect1d(array1,array2)\n",
        "print(\"intersection:\",y)\n",
        "z=np.setdiff1d(array1,array2)\n",
        "print(\"set difference:\",z)\n",
        "x1=np.setxor1d(array1,array2)\n",
        "print(\"set xor:\",x1)"
      ],
      "metadata": {
        "id": "o2aJGBGwjuci",
        "colab": {
          "base_uri": "https://localhost:8080/",
          "height": 0
        },
        "outputId": "8f1dc8a1-3861-404b-be1a-aff175305a4b"
      },
      "execution_count": 14,
      "outputs": [
        {
          "output_type": "stream",
          "name": "stdout",
          "text": [
            "union: [3 4 5 6 7 8 9]\n",
            "intersection: [6 7]\n",
            "set difference: [3 4 5]\n",
            "set xor: [3 4 5 8 9]\n"
          ]
        }
      ]
    },
    {
      "cell_type": "code",
      "source": [
        "#Q3. Create a 1D array using Random function and perform the following operations.\n",
        "#è Cumulative sum\n",
        "#è Cumulative Product\n",
        "#è Discrete difference (with n=3)\n",
        "#è Find the unique elements from the array\n",
        "import numpy as np\n",
        "\n",
        "\n",
        "array_size = 10\n",
        "random_array = np.random.rand(array_size)\n",
        "\n",
        "print(\"Original Array:\")\n",
        "print(random_array)\n",
        "\n",
        "cumulative_sum = np.cumsum(random_array)\n",
        "print(\"\\nCumulative Sum:\")\n",
        "print(cumulative_sum)\n",
        "\n",
        "cumulative_product = np.cumprod(random_array)\n",
        "print(\"\\nCumulative Product:\")\n",
        "print(cumulative_product)\n",
        "\n",
        "n = 3\n",
        "discrete_diff = np.diff(random_array, n=n)\n",
        "print(\"\\nDiscrete Difference with n=3:\")\n",
        "print(discrete_diff)\n",
        "\n",
        "\n",
        "unique_elements = np.unique(random_array)\n",
        "print(\"\\nUnique Elements:\")\n",
        "print(unique_elements)\n"
      ],
      "metadata": {
        "colab": {
          "base_uri": "https://localhost:8080/",
          "height": 0
        },
        "id": "W6Fz8Dihl0h-",
        "outputId": "8ae1564b-b8ac-40a1-9f39-fdd893c41416"
      },
      "execution_count": 18,
      "outputs": [
        {
          "output_type": "stream",
          "name": "stdout",
          "text": [
            "Original Array:\n",
            "[0.14960211 0.85018036 0.02361294 0.63296141 0.27834329 0.28537306\n",
            " 0.70119346 0.05272055 0.92995467 0.84717516]\n",
            "\n",
            "Cumulative Sum:\n",
            "[0.14960211 0.99978248 1.02339542 1.65635682 1.93470011 2.22007318\n",
            " 2.92126663 2.97398718 3.90394186 4.75111702]\n",
            "\n",
            "Cumulative Product:\n",
            "[1.49602113e-01 1.27188779e-01 3.00330071e-03 1.90097344e-03\n",
            " 5.29123201e-04 1.50997509e-04 1.05878465e-04 5.58197087e-06\n",
            " 5.19097988e-06 4.39766923e-06]\n",
            "\n",
            "Discrete Difference with n=3:\n",
            "[ 2.96306158 -2.39988249  1.32561448  0.04714273 -1.47308392  2.59000033\n",
            " -2.48572066]\n",
            "\n",
            "Unique Elements:\n",
            "[0.02361294 0.05272055 0.14960211 0.27834329 0.28537306 0.63296141\n",
            " 0.70119346 0.84717516 0.85018036 0.92995467]\n"
          ]
        }
      ]
    },
    {
      "cell_type": "code",
      "source": [
        "#Q4. Create two 1D array and perform the Addition using zip(), add() and user defined function (frompyfunc())\n",
        "import numpy as np\n",
        "\n",
        "# Create two 1D arrays\n",
        "array1 = np.array([1, 2, 3, 4, 5])\n",
        "array2 = np.array([6, 7, 8, 9, 10])\n",
        "\n",
        "result_zip = [sum(x) for x in zip(array1, array2)]\n",
        "\n",
        "\n",
        "result_np_add = np.add(array1, array2)\n",
        "\n",
        "def add_elements(x, y):\n",
        "    return x + y\n",
        "\n",
        "add_func = np.frompyfunc(add_elements, 2, 1)\n",
        "\n",
        "result_user_defined = add_func(array1, array2)\n",
        "\n",
        "# Print the results\n",
        "print(\"Method 1 (Using zip()):\")\n",
        "print(result_zip)\n",
        "\n",
        "print(\"\\nMethod 2 (Using np.add()):\")\n",
        "print(result_np_add)\n",
        "\n",
        "print(\"\\nMethod 3 (Using np.frompyfunc() - User-defined function):\")\n",
        "print(result_user_defined)\n"
      ],
      "metadata": {
        "colab": {
          "base_uri": "https://localhost:8080/",
          "height": 0
        },
        "id": "WuTil6xDnOUz",
        "outputId": "dcfebf5b-7eb8-44b5-c865-0213f25e4d7b"
      },
      "execution_count": 19,
      "outputs": [
        {
          "output_type": "stream",
          "name": "stdout",
          "text": [
            "Method 1 (Using zip()):\n",
            "[7, 9, 11, 13, 15]\n",
            "\n",
            "Method 2 (Using np.add()):\n",
            "[ 7  9 11 13 15]\n",
            "\n",
            "Method 3 (Using np.frompyfunc() - User-defined function):\n",
            "[7 9 11 13 15]\n"
          ]
        }
      ]
    },
    {
      "cell_type": "code",
      "source": [
        "#Q5. Find the LCM (Least Common Multiple) and GCD (Greatest Common Divisor) of an array of elements using reduce().\n",
        "import numpy as np\n",
        "from functools import reduce\n",
        "import math\n",
        "\n",
        "\n",
        "array = np.array([12, 18, 24, 30, 36])\n",
        "\n",
        "def lcm(x, y):\n",
        "    return x * y // math.gcd(x, y)\n",
        "\n",
        "def gcd(x, y):\n",
        "    return math.gcd(x, y)\n",
        "\n",
        "lcm_result = reduce(lcm, array)\n",
        "\n",
        "gcd_result = reduce(gcd, array)\n",
        "\n",
        "print(\"Array:\", array)\n",
        "print(\"LCM:\", lcm_result)\n",
        "print(\"GCD:\", gcd_result)\n"
      ],
      "metadata": {
        "colab": {
          "base_uri": "https://localhost:8080/",
          "height": 0
        },
        "id": "c-J2vmsorR0f",
        "outputId": "8586ae28-fc79-440e-de19-c1c3c601aeb0"
      },
      "execution_count": 20,
      "outputs": [
        {
          "output_type": "stream",
          "name": "stdout",
          "text": [
            "Array: [12 18 24 30 36]\n",
            "LCM: 360\n",
            "GCD: 6\n"
          ]
        }
      ]
    }
  ]
}