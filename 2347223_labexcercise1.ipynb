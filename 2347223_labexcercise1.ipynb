{
 "cells": [
  {
   "cell_type": "code",
   "execution_count": 3,
   "metadata": {},
   "outputs": [
    {
     "name": "stdout",
     "output_type": "stream",
     "text": [
      "The word 'hiran' appears 1 times in the paragraph.\n"
     ]
    }
   ],
   "source": [
    "#Write a python program to count the frequency of any specific word (in your domain) in the paragraph.\n",
    "\n",
    "def countingword(paragraph, word):\n",
    "    words = paragraph.lower().split()\n",
    "    word_count = words.count(word.lower())\n",
    "    return word_count\n",
    "    print(words)\n",
    "paragraph = \"my name is hiran george and my domain is gym management\"\n",
    "\n",
    "word = \"hiran\"\n",
    "\n",
    "frequency = countingword(paragraph,word)\n",
    "print(f\"The word '{word}' appears {frequency} times in the paragraph.\")"
   ]
  },
  {
   "cell_type": "code",
   "execution_count": 4,
   "metadata": {},
   "outputs": [
    {
     "name": "stdout",
     "output_type": "stream",
     "text": [
      "My - string\n",
      "domain - string\n",
      "is - string\n",
      "gym - string\n",
      "management - string\n"
     ]
    }
   ],
   "source": [
    "# Write a python program to display all the datatypes of selected specific elements in the paragraph. \n",
    "def identify(paragraph):\n",
    "    elements = paragraph.split()\n",
    "    datatypes = {}\n",
    "    for x  in elements:\n",
    "        if x.isdigit():\n",
    "          datatypes[x] = \"int\"\n",
    "        elif x.replace('.', '', 1).isdigit():\n",
    "            datatypes[x] = \"float\"\n",
    "        else:\n",
    "            datatypes[x] = \"string\"\n",
    "    return datatypes\n",
    "paragraph = \"My domain is gym management\"\n",
    "datatypes = identify(paragraph)\n",
    "for x, datatype in datatypes.items():\n",
    " print(f\"{x} - {datatype}\")\n"
   ]
  },
  {
   "cell_type": "markdown",
   "metadata": {},
   "source": []
  },
  {
   "cell_type": "code",
   "execution_count": 5,
   "metadata": {},
   "outputs": [
    {
     "name": "stdout",
     "output_type": "stream",
     "text": [
      "Number of alphabets: 23\n",
      "Number of numeric digits: 0\n",
      "Number of special symbols: 4\n"
     ]
    }
   ],
   "source": [
    "#Write a python program to count the number of alphabets, numeric and other special symbols in the paragraph.\n",
    " \n",
    "\n",
    "def count_symbols(paragraph):\n",
    "    num_alphabets = 0\n",
    "    num_digits = 0\n",
    "    num_special_symbols = 0\n",
    "\n",
    "    for char in paragraph:\n",
    "        if char.isalpha():\n",
    "            num_alphabets += 1\n",
    "        elif char.isdigit():\n",
    "            num_digits += 1\n",
    "        else:\n",
    "            num_special_symbols += 1\n",
    "\n",
    "    return num_alphabets, num_digits, num_special_symbols\n",
    "\n",
    "\n",
    "\n",
    "alphabets, digits, special_symbols = count_symbols(paragraph)\n",
    "\n",
    "print(f\"Number of alphabets: {alphabets}\")\n",
    "print(f\"Number of numeric digits: {digits}\")\n",
    "print(f\"Number of special symbols: {special_symbols}\")\n"
   ]
  },
  {
   "cell_type": "code",
   "execution_count": 7,
   "metadata": {},
   "outputs": [
    {
     "name": "stdout",
     "output_type": "stream",
     "text": [
      "Initial set: {1, 42, 5, 'gym'}\n",
      "\n",
      "Using pop():\n",
      "Popped element: 1\n",
      "Updated set: {42, 5, 'gym'}\n",
      "\n",
      "Using clear():\n",
      "Cleared set: set()\n",
      "\n",
      "Using discard():\n",
      "Set after discarding 'gym': {1, 42, 3.14}\n",
      "\n",
      " using remove:\n",
      "set after delete the item in 3: {42, 3.14}\n"
     ]
    }
   ],
   "source": [
    "#Create a Set with elements that consists of various data types (int, float, string, Boolean, etc. from your domain) \n",
    "#and perform the functions pop(), clear(), discard() and del. Write the insights as docstring.\n",
    "def set_operations_demo():\n",
    "\n",
    "   \n",
    "    data_set = {1, 5, \"gym\", True, 42}\n",
    "\n",
    "    print(\"Initial set:\", data_set)\n",
    "\n",
    "    popped_element = data_set.pop()\n",
    "    print(\"\\nUsing pop():\")\n",
    "    print(\"Popped element:\", popped_element)\n",
    "    print(\"Updated set:\", data_set)\n",
    "\n",
    "\n",
    "    data_set.clear()\n",
    "    print(\"\\nUsing clear():\")\n",
    "    print(\"Cleared set:\", data_set)\n",
    "\n",
    "\n",
    "    data_set = {1, 3.14, \"gym\", True, 42}\n",
    "\n",
    "\n",
    "    data_set.discard(\"gym\")\n",
    "    print(\"\\nUsing discard():\")\n",
    "    print(\"Set after discarding 'gym':\", data_set)\n",
    "\n",
    "    data_set.remove(1)\n",
    "    print(\"\\n using remove:\")\n",
    "    print(\"set after delete the item in 3:\",data_set)\n",
    "\n",
    "set_operations_demo()"
   ]
  },
  {
   "cell_type": "code",
   "execution_count": 12,
   "metadata": {},
   "outputs": [
    {
     "name": "stdout",
     "output_type": "stream",
     "text": [
      "{True, 3.45, 'member', 'Equipment'}\n",
      "{False, True, 3.45, 'duration', 'member', 'workout', 'Equipment'}\n"
     ]
    }
   ],
   "source": [
    "# \tUpdate the Set with minimum 5 string attributes of your domain and arrange the Set in descending order.\n",
    "gym = {\"member\", \"Equipment\", 3.45, True}\n",
    "print(gym)\n",
    "gym.update([\"workout\",\"duration\", False])\n",
    "print(gym)\n"
   ]
  },
  {
   "cell_type": "code",
   "execution_count": 9,
   "metadata": {},
   "outputs": [
    {
     "name": "stdout",
     "output_type": "stream",
     "text": [
      "Initial set: {'duration', 'member', 'workout', 'equipment'}\n",
      "\n",
      "Set in descending order: ['workout', 'member', 'equipment', 'duration']\n"
     ]
    }
   ],
   "source": [
    "#  arrange the Set in descending order.\n",
    "def string_set_demo():\n",
    "\n",
    "    string_set = {\"duration\",\"member\",\"workout\",\"equipment\"}\n",
    "    print(\"Initial set:\", string_set)\n",
    "    descending_set = sorted(string_set, reverse=True)\n",
    "    print(\"\\nSet in descending order:\", descending_set)\n",
    "string_set_demo()"
   ]
  },
  {
   "cell_type": "code",
   "execution_count": 6,
   "metadata": {},
   "outputs": [
    {
     "name": "stdout",
     "output_type": "stream",
     "text": [
      "Count of 'm' = 3\n"
     ]
    }
   ],
   "source": [
    "#enter your domain name as characters and count any number of characters and print the count \n",
    "def characteroccurrences():\n",
    "\n",
    "    domain = \"gymmanagement\"\n",
    "    target_character = \"m\"\n",
    "    character_count = domain.count(target_character)\n",
    "    print(f\"Count of '{target_character}' = {character_count}\")\n",
    "\n",
    "characteroccurrences()"
   ]
  },
  {
   "cell_type": "code",
   "execution_count": 10,
   "metadata": {},
   "outputs": [
    {
     "name": "stdout",
     "output_type": "stream",
     "text": [
      "gym\n",
      "ym \n",
      "gym\n",
      " management\n",
      "ym m\n",
      "n\n",
      "\n",
      "gem\n",
      "gym managemen\n",
      "gem\n"
     ]
    }
   ],
   "source": [
    "#Enter your domain name, execute all the slicing possibilities and also negative indexing.\n",
    "domain_name = \"gym management\"\n",
    "slice1 = domain_name[0:3]\n",
    "print(slice1)\n",
    "slice2 = domain_name[1:4]\n",
    "print(slice2)\n",
    "slice3 = domain_name[:3]\n",
    "print(slice3)\n",
    "slice4 = domain_name[3:]\n",
    "print(slice4)\n",
    "slice5 = domain_name[1:5]\n",
    "print(slice5)\n",
    "slice6 = domain_name[-2]\n",
    "print(slice6)\n",
    "slice7 = domain_name[-3:4]\n",
    "print(slice7)\n",
    "slice8 = domain_name[-6:-3]\n",
    "print(slice8)\n",
    "slice9 = domain_name[:-1]\n",
    "print(slice9)\n",
    "slice10 = domain_name[-6: -3]\n",
    "print(slice10)\n"
   ]
  },
  {
   "cell_type": "code",
   "execution_count": 5,
   "metadata": {},
   "outputs": [
    {
     "name": "stdout",
     "output_type": "stream",
     "text": [
      "Packed tuple: ('height', 'weight', 'age')\n",
      "\n",
      "Unpacked attributes:\n",
      "Attribute 1: height\n",
      "Attribute 2: weight\n",
      "Attribute 3: age\n"
     ]
    }
   ],
   "source": [
    "#Create a Tuple and Execute the packing and unpacking operations of tuples using the attributes of your domain.\n",
    "def tuple_operations_demo():\n",
    "\n",
    "    attributes = (\"height\", \"weight\", \"age\")\n",
    "    print(\"Packed tuple:\", attributes)\n",
    "    attr1, attr2, attr3 = attributes\n",
    "    print(\"\\nUnpacked attributes:\")\n",
    "    print(\"Attribute 1:\", attr1)\n",
    "    print(\"Attribute 2:\", attr2)\n",
    "    print(\"Attribute 3:\", attr3)\n",
    "tuple_operations_demo()"
   ]
  }
 ],
 "metadata": {
  "kernelspec": {
   "display_name": "Python 3",
   "language": "python",
   "name": "python3"
  },
  "language_info": {
   "codemirror_mode": {
    "name": "ipython",
    "version": 3
   },
   "file_extension": ".py",
   "mimetype": "text/x-python",
   "name": "python",
   "nbconvert_exporter": "python",
   "pygments_lexer": "ipython3",
   "version": "3.11.4"
  },
  "orig_nbformat": 4
 },
 "nbformat": 4,
 "nbformat_minor": 2
}
